{
 "cells": [
  {
   "cell_type": "code",
   "execution_count": 1,
   "id": "3eff79dd",
   "metadata": {
    "_cell_guid": "b1076dfc-b9ad-4769-8c92-a6c4dae69d19",
    "_uuid": "8f2839f25d086af736a60e9eeb907d3b93b6e0e5",
    "execution": {
     "iopub.execute_input": "2023-10-16T19:41:43.609031Z",
     "iopub.status.busy": "2023-10-16T19:41:43.608666Z",
     "iopub.status.idle": "2023-10-16T19:41:44.952502Z",
     "shell.execute_reply": "2023-10-16T19:41:44.951641Z"
    },
    "papermill": {
     "duration": 1.351528,
     "end_time": "2023-10-16T19:41:44.954921",
     "exception": false,
     "start_time": "2023-10-16T19:41:43.603393",
     "status": "completed"
    },
    "tags": []
   },
   "outputs": [],
   "source": [
    "import io\n",
    "import random\n",
    "import string # to process standard python strings\n",
    "import warnings\n",
    "import numpy as np\n",
    "from sklearn.feature_extraction.text import TfidfVectorizer\n",
    "from sklearn.metrics.pairwise import cosine_similarity\n",
    "import warnings\n",
    "warnings.filterwarnings('ignore')"
   ]
  },
  {
   "cell_type": "code",
   "execution_count": 2,
   "id": "1432eb67",
   "metadata": {
    "execution": {
     "iopub.execute_input": "2023-10-16T19:41:44.964584Z",
     "iopub.status.busy": "2023-10-16T19:41:44.963240Z",
     "iopub.status.idle": "2023-10-16T19:41:48.651201Z",
     "shell.execute_reply": "2023-10-16T19:41:48.650445Z"
    },
    "papermill": {
     "duration": 3.694407,
     "end_time": "2023-10-16T19:41:48.653739",
     "exception": false,
     "start_time": "2023-10-16T19:41:44.959332",
     "status": "completed"
    },
    "tags": []
   },
   "outputs": [
    {
     "name": "stdout",
     "output_type": "stream",
     "text": [
      "[nltk_data] Downloading package punkt to /usr/share/nltk_data...\n",
      "[nltk_data]   Package punkt is already up-to-date!\n",
      "[nltk_data] Downloading package wordnet to /usr/share/nltk_data...\n",
      "[nltk_data]   Package wordnet is already up-to-date!\n"
     ]
    },
    {
     "data": {
      "text/plain": [
       "True"
      ]
     },
     "execution_count": 2,
     "metadata": {},
     "output_type": "execute_result"
    }
   ],
   "source": [
    "import nltk\n",
    "from nltk.stem import WordNetLemmatizer\n",
    "nltk.download('popular', quiet=True) # for downloading packages\n",
    "nltk.download('punkt') # first-time use only\n",
    "nltk.download('wordnet') # first-time use only"
   ]
  },
  {
   "cell_type": "code",
   "execution_count": 3,
   "id": "e45c990e",
   "metadata": {
    "execution": {
     "iopub.execute_input": "2023-10-16T19:41:48.660825Z",
     "iopub.status.busy": "2023-10-16T19:41:48.660054Z",
     "iopub.status.idle": "2023-10-16T19:41:48.672418Z",
     "shell.execute_reply": "2023-10-16T19:41:48.671577Z"
    },
    "papermill": {
     "duration": 0.018187,
     "end_time": "2023-10-16T19:41:48.674473",
     "exception": false,
     "start_time": "2023-10-16T19:41:48.656286",
     "status": "completed"
    },
    "tags": []
   },
   "outputs": [],
   "source": [
    "f=open('/kaggle/input/chatbot-description/chatbot.txt','r',errors = 'ignore')\n",
    "raw=f.read()\n",
    "raw = raw.lower()# converts to lowercase"
   ]
  },
  {
   "cell_type": "code",
   "execution_count": 4,
   "id": "ac4c753d",
   "metadata": {
    "execution": {
     "iopub.execute_input": "2023-10-16T19:41:48.681028Z",
     "iopub.status.busy": "2023-10-16T19:41:48.680715Z",
     "iopub.status.idle": "2023-10-16T19:41:48.714668Z",
     "shell.execute_reply": "2023-10-16T19:41:48.713644Z"
    },
    "papermill": {
     "duration": 0.039626,
     "end_time": "2023-10-16T19:41:48.716734",
     "exception": false,
     "start_time": "2023-10-16T19:41:48.677108",
     "status": "completed"
    },
    "tags": []
   },
   "outputs": [],
   "source": [
    "sent_tokens = nltk.sent_tokenize(raw)# converts to list of sentences\n",
    "word_tokens = nltk.word_tokenize(raw)# converts to list of words\n",
    "\n",
    "lemmer = nltk.stem.WordNetLemmatizer()\n",
    "#WordNet is a semantically-oriented dictionary of English included in NLTK.\n",
    "def LemTokens(tokens):\n",
    "    return [lemmer.lemmatize(token) for token in tokens]\n",
    "remove_punct_dict = dict((ord(punct), None) for punct in string.punctuation)\n",
    "\n",
    "def LemNormalize(text):\n",
    "    return LemTokens(nltk.word_tokenize(text.lower().translate(remove_punct_dict)))"
   ]
  },
  {
   "cell_type": "code",
   "execution_count": 5,
   "id": "9a2ef4d0",
   "metadata": {
    "execution": {
     "iopub.execute_input": "2023-10-16T19:41:48.723660Z",
     "iopub.status.busy": "2023-10-16T19:41:48.723177Z",
     "iopub.status.idle": "2023-10-16T19:41:48.734102Z",
     "shell.execute_reply": "2023-10-16T19:41:48.732982Z"
    },
    "papermill": {
     "duration": 0.016829,
     "end_time": "2023-10-16T19:41:48.736193",
     "exception": false,
     "start_time": "2023-10-16T19:41:48.719364",
     "status": "completed"
    },
    "tags": []
   },
   "outputs": [],
   "source": [
    "import random\n",
    "from sklearn.feature_extraction.text import TfidfVectorizer\n",
    "from sklearn.metrics.pairwise import cosine_similarity\n",
    "\n",
    "GREETING_INPUTS = (\"hello\", \"hi\", \"greetings\", \"sup\", \"what's up\", \"hey\")\n",
    "GREETING_RESPONSES = [\"hi\", \"hey\", \"*nods*\", \"hi there\", \"hello\", \"I am glad! You are talking to me\"]\n",
    "\n",
    "WEATHER_RESPONSES = [\n",
    "    \"It's a beautiful day outside!\",\n",
    "    \"It's a bit chilly today, but it's supposed to warm up later.\",\n",
    "    \"It's raining today, so be sure to bring an umbrella!\",\n",
    "    \"The weather forecast shows sunshine throughout the day.\",\n",
    "    \"Expect a high temperature today. Stay hydrated!\",\n",
    "    \"It's a perfect day for outdoor activities.\",\n",
    "]\n",
    "\n",
    "JOKES = [\n",
    "    \"What do you call a fish with no eyes? Fsh!\",\n",
    "    \"What do you call a cow with no legs? Ground beef!\",\n",
    "    \"Why did the scarecrow win an award? Because he was outstanding in his field!\",\n",
    "    \"What do you call a lazy kangaroo? A pouch potato!\",\n",
    "    \"What do you call a deer with no eyes? No idear!\",\n",
    "    \"Why don't scientists trust atoms? Because they make up everything!\",\n",
    "    \"Why don't skeletons fight each other? They don't have the guts!\",\n",
    "]\n",
    "\n",
    "def greeting(sentence):\n",
    "    for word in sentence.split():\n",
    "        if word.lower() in GREETING_INPUTS:\n",
    "            return random.choice(GREETING_RESPONSES)\n",
    "\n",
    "def jokes():\n",
    "    return random.choice(JOKES)\n",
    "\n",
    "def name(sentence):\n",
    "    name = sentence.split()[1]\n",
    "    return f\"Hello {name}! How can I help you today?\"\n",
    "\n",
    "def weather():\n",
    "    return random.choice(WEATHER_RESPONSES)\n",
    "\n",
    "def response(user_response):\n",
    "    robo_response = ''\n",
    "    sent_tokens.append(user_response)\n",
    "\n",
    "    # Create a TF-IDF vectorizer and transform the chat history\n",
    "    TfidfVec = TfidfVectorizer(tokenizer=LemNormalize, stop_words='english')\n",
    "    tfidf = TfidfVec.fit_transform(sent_tokens)\n",
    "\n",
    "    # Calculate the cosine similarity between the user's response and the chat history\n",
    "    vals = cosine_similarity(tfidf[-1], tfidf)\n",
    "\n",
    "    # Find the most similar response in the chat history\n",
    "    idx = vals.argsort()[0][-2]\n",
    "\n",
    "    # Get the TF-IDF value of the most similar response\n",
    "    flat = vals.flatten()\n",
    "    flat.sort()\n",
    "    req_tfidf = flat[-2]\n",
    "\n",
    "    # If the TF-IDF value of the most similar response is low, then return a default response\n",
    "    if req_tfidf == 0:\n",
    "        robo_response += \"I am sorry! I don't understand you.\"\n",
    "    else:\n",
    "        robo_response += sent_tokens[idx]\n",
    "\n",
    "    return robo_response"
   ]
  },
  {
   "cell_type": "code",
   "execution_count": 6,
   "id": "975c89ca",
   "metadata": {
    "execution": {
     "iopub.execute_input": "2023-10-16T19:41:48.742428Z",
     "iopub.status.busy": "2023-10-16T19:41:48.742064Z",
     "iopub.status.idle": "2023-10-16T19:41:49.214263Z",
     "shell.execute_reply": "2023-10-16T19:41:49.213062Z"
    },
    "papermill": {
     "duration": 0.477382,
     "end_time": "2023-10-16T19:41:49.216081",
     "exception": true,
     "start_time": "2023-10-16T19:41:48.738699",
     "status": "failed"
    },
    "tags": []
   },
   "outputs": [
    {
     "name": "stdout",
     "output_type": "stream",
     "text": [
      "ROBO: My name is Robo. I will answer your queries about Chatbots. If you want to exit, type Bye!\n"
     ]
    },
    {
     "ename": "StdinNotImplementedError",
     "evalue": "raw_input was called, but this frontend does not support input requests.",
     "output_type": "error",
     "traceback": [
      "\u001b[0;31m---------------------------------------------------------------------------\u001b[0m",
      "\u001b[0;31mStdinNotImplementedError\u001b[0m                  Traceback (most recent call last)",
      "Cell \u001b[0;32mIn[6], line 5\u001b[0m\n\u001b[1;32m      2\u001b[0m \u001b[38;5;28mprint\u001b[39m(\u001b[38;5;124m\"\u001b[39m\u001b[38;5;124mROBO: My name is Robo. I will answer your queries about Chatbots. If you want to exit, type Bye!\u001b[39m\u001b[38;5;124m\"\u001b[39m)\n\u001b[1;32m      4\u001b[0m \u001b[38;5;28;01mwhile\u001b[39;00m flag:\n\u001b[0;32m----> 5\u001b[0m     user_response \u001b[38;5;241m=\u001b[39m \u001b[38;5;28;43minput\u001b[39;49m\u001b[43m(\u001b[49m\u001b[38;5;124;43m\"\u001b[39;49m\u001b[38;5;124;43mHuman: \u001b[39;49m\u001b[38;5;124;43m\"\u001b[39;49m\u001b[43m)\u001b[49m\u001b[38;5;241m.\u001b[39mlower()\n\u001b[1;32m      7\u001b[0m     \u001b[38;5;28;01mif\u001b[39;00m user_response \u001b[38;5;241m==\u001b[39m \u001b[38;5;124m\"\u001b[39m\u001b[38;5;124mbye\u001b[39m\u001b[38;5;124m\"\u001b[39m:\n\u001b[1;32m      8\u001b[0m         flag \u001b[38;5;241m=\u001b[39m \u001b[38;5;28;01mFalse\u001b[39;00m\n",
      "File \u001b[0;32m/opt/conda/lib/python3.10/site-packages/ipykernel/kernelbase.py:1190\u001b[0m, in \u001b[0;36mKernel.raw_input\u001b[0;34m(self, prompt)\u001b[0m\n\u001b[1;32m   1188\u001b[0m \u001b[38;5;28;01mif\u001b[39;00m \u001b[38;5;129;01mnot\u001b[39;00m \u001b[38;5;28mself\u001b[39m\u001b[38;5;241m.\u001b[39m_allow_stdin:\n\u001b[1;32m   1189\u001b[0m     msg \u001b[38;5;241m=\u001b[39m \u001b[38;5;124m\"\u001b[39m\u001b[38;5;124mraw_input was called, but this frontend does not support input requests.\u001b[39m\u001b[38;5;124m\"\u001b[39m\n\u001b[0;32m-> 1190\u001b[0m     \u001b[38;5;28;01mraise\u001b[39;00m StdinNotImplementedError(msg)\n\u001b[1;32m   1191\u001b[0m \u001b[38;5;28;01mreturn\u001b[39;00m \u001b[38;5;28mself\u001b[39m\u001b[38;5;241m.\u001b[39m_input_request(\n\u001b[1;32m   1192\u001b[0m     \u001b[38;5;28mstr\u001b[39m(prompt),\n\u001b[1;32m   1193\u001b[0m     \u001b[38;5;28mself\u001b[39m\u001b[38;5;241m.\u001b[39m_parent_ident[\u001b[38;5;124m\"\u001b[39m\u001b[38;5;124mshell\u001b[39m\u001b[38;5;124m\"\u001b[39m],\n\u001b[1;32m   1194\u001b[0m     \u001b[38;5;28mself\u001b[39m\u001b[38;5;241m.\u001b[39mget_parent(\u001b[38;5;124m\"\u001b[39m\u001b[38;5;124mshell\u001b[39m\u001b[38;5;124m\"\u001b[39m),\n\u001b[1;32m   1195\u001b[0m     password\u001b[38;5;241m=\u001b[39m\u001b[38;5;28;01mFalse\u001b[39;00m,\n\u001b[1;32m   1196\u001b[0m )\n",
      "\u001b[0;31mStdinNotImplementedError\u001b[0m: raw_input was called, but this frontend does not support input requests."
     ]
    }
   ],
   "source": [
    "flag = True\n",
    "print(\"ROBO: My name is Robo. I will answer your queries about Chatbots. If you want to exit, type Bye!\")\n",
    "\n",
    "while flag:\n",
    "    user_response = input(\"Human: \").lower()\n",
    "\n",
    "    if user_response == \"bye\":\n",
    "        flag = False\n",
    "        print(\"ROBO: Bye! Take care.\")\n",
    "    elif user_response == \"thanks\" or user_response == \"thank you\":\n",
    "        flag = False\n",
    "        print(\"ROBO: You're welcome!\")\n",
    "    else:\n",
    "        greeting_response = greeting(user_response)\n",
    "        joke_response = jokes()\n",
    "\n",
    "        if greeting_response is not None:\n",
    "            print(greeting_response)\n",
    "        elif user_response.startswith(\"tell me a joke\"):\n",
    "            print(joke_response)\n",
    "        elif user_response.startswith(\"what's your name\"):\n",
    "            print(\"ROBO: My name is Robo. How can I assist you?\")\n",
    "        elif \"name\" in user_response:\n",
    "            print(\"ROBO: My name is Robo. How can I assist you?\")\n",
    "        elif \"how are you\" in user_response:\n",
    "            print(\"ROBO: I'm a bot, so I don't have feelings, but thanks for asking!\")\n",
    "        elif user_response.startswith(\"what's the weather like\"):\n",
    "            print(weather())\n",
    "        else:\n",
    "            print(response(user_response))"
   ]
  },
  {
   "cell_type": "code",
   "execution_count": null,
   "id": "aac1ba00",
   "metadata": {
    "papermill": {
     "duration": null,
     "end_time": null,
     "exception": null,
     "start_time": null,
     "status": "pending"
    },
    "tags": []
   },
   "outputs": [],
   "source": []
  }
 ],
 "metadata": {
  "kernelspec": {
   "display_name": "Python 3",
   "language": "python",
   "name": "python3"
  },
  "language_info": {
   "codemirror_mode": {
    "name": "ipython",
    "version": 3
   },
   "file_extension": ".py",
   "mimetype": "text/x-python",
   "name": "python",
   "nbconvert_exporter": "python",
   "pygments_lexer": "ipython3",
   "version": "3.10.12"
  },
  "papermill": {
   "default_parameters": {},
   "duration": 9.389187,
   "end_time": "2023-10-16T19:41:49.840974",
   "environment_variables": {},
   "exception": true,
   "input_path": "__notebook__.ipynb",
   "output_path": "__notebook__.ipynb",
   "parameters": {},
   "start_time": "2023-10-16T19:41:40.451787",
   "version": "2.4.0"
  }
 },
 "nbformat": 4,
 "nbformat_minor": 5
}
